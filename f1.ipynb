{
 "cells": [
  {
   "cell_type": "code",
   "execution_count": 3,
   "metadata": {},
   "outputs": [
    {
     "name": "stdout",
     "output_type": "stream",
     "text": [
      "Loading C:\\Users\\prush\\AppData\\Roaming\\pix2text\\1.1\\mfd-onnx\\mfd-v20240618.onnx for ONNX Runtime inference...\n",
      "Using ONNX Runtime CPUExecutionProvider\n",
      "\n",
      "WARNING ⚠️ imgsz=[353, 768] must be multiple of max stride 32, updating to [384, 768]\n",
      "0: 384x768 1 isolated, 132.9ms\n",
      "Speed: 3.3ms preprocess, 132.9ms inference, 1.4ms postprocess per image at shape (1, 3, 384, 768)\n"
     ]
    },
    {
     "name": "stderr",
     "output_type": "stream",
     "text": [
      "100%|██████████| 1/1 [00:00<00:00,  1.02it/s]\n"
     ]
    }
   ],
   "source": [
    "from pix2text import Pix2Text\n",
    "\n",
    "img_fp = 'images/mat2.jpg'\n",
    "p2t = Pix2Text.from_config()\n",
    "out = p2t.recognize(img_fp, file_type='text_formula')"
   ]
  },
  {
   "cell_type": "code",
   "execution_count": 4,
   "metadata": {},
   "outputs": [
    {
     "name": "stdout",
     "output_type": "stream",
     "text": [
      "\n",
      "$$\n",
      "[ \\begin{matrix} a x+b y^{4} \\\\ 9 c x+d \\end{matrix} ] [ \\begin{matrix} 1 \\\\ 3 & {2} \\\\ 3 \\end{matrix} ]\n",
      "$$\n",
      "\n"
     ]
    }
   ],
   "source": [
    "print(out) \n"
   ]
  },
  {
   "cell_type": "code",
   "execution_count": null,
   "metadata": {},
   "outputs": [],
   "source": []
  }
 ],
 "metadata": {
  "kernelspec": {
   "display_name": "llm_ftune",
   "language": "python",
   "name": "python3"
  },
  "language_info": {
   "codemirror_mode": {
    "name": "ipython",
    "version": 3
   },
   "file_extension": ".py",
   "mimetype": "text/x-python",
   "name": "python",
   "nbconvert_exporter": "python",
   "pygments_lexer": "ipython3",
   "version": "3.11.10"
  }
 },
 "nbformat": 4,
 "nbformat_minor": 2
}
